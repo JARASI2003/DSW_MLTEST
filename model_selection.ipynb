{
  "nbformat": 4,
  "nbformat_minor": 0,
  "metadata": {
    "colab": {
      "provenance": []
    },
    "kernelspec": {
      "name": "python3",
      "display_name": "Python 3"
    },
    "language_info": {
      "name": "python"
    }
  },
  "cells": [
    {
      "cell_type": "code",
      "execution_count": 1,
      "metadata": {
        "id": "U2LbjOI8Itr2"
      },
      "outputs": [],
      "source": [
        "import pandas as pd\n",
        "import numpy as np"
      ]
    },
    {
      "cell_type": "code",
      "source": [
        "df=pd.read_csv('train_df.csv')\n",
        "df.head(1)"
      ],
      "metadata": {
        "colab": {
          "base_uri": "https://localhost:8080/",
          "height": 81
        },
        "id": "xlr_rnBlI308",
        "outputId": "1c52adf4-c609-4eb8-e100-180a277b0d97"
      },
      "execution_count": 6,
      "outputs": [
        {
          "output_type": "execute_result",
          "data": {
            "text/plain": [
              "   category  main_promotion  color  stars  success_indicator\n",
              "0         5               0      3    1.0                  0"
            ],
            "text/html": [
              "\n",
              "  <div id=\"df-5a09036b-4e81-4d4e-8a3b-33ca2f0fa6f0\" class=\"colab-df-container\">\n",
              "    <div>\n",
              "<style scoped>\n",
              "    .dataframe tbody tr th:only-of-type {\n",
              "        vertical-align: middle;\n",
              "    }\n",
              "\n",
              "    .dataframe tbody tr th {\n",
              "        vertical-align: top;\n",
              "    }\n",
              "\n",
              "    .dataframe thead th {\n",
              "        text-align: right;\n",
              "    }\n",
              "</style>\n",
              "<table border=\"1\" class=\"dataframe\">\n",
              "  <thead>\n",
              "    <tr style=\"text-align: right;\">\n",
              "      <th></th>\n",
              "      <th>category</th>\n",
              "      <th>main_promotion</th>\n",
              "      <th>color</th>\n",
              "      <th>stars</th>\n",
              "      <th>success_indicator</th>\n",
              "    </tr>\n",
              "  </thead>\n",
              "  <tbody>\n",
              "    <tr>\n",
              "      <th>0</th>\n",
              "      <td>5</td>\n",
              "      <td>0</td>\n",
              "      <td>3</td>\n",
              "      <td>1.0</td>\n",
              "      <td>0</td>\n",
              "    </tr>\n",
              "  </tbody>\n",
              "</table>\n",
              "</div>\n",
              "    <div class=\"colab-df-buttons\">\n",
              "\n",
              "  <div class=\"colab-df-container\">\n",
              "    <button class=\"colab-df-convert\" onclick=\"convertToInteractive('df-5a09036b-4e81-4d4e-8a3b-33ca2f0fa6f0')\"\n",
              "            title=\"Convert this dataframe to an interactive table.\"\n",
              "            style=\"display:none;\">\n",
              "\n",
              "  <svg xmlns=\"http://www.w3.org/2000/svg\" height=\"24px\" viewBox=\"0 -960 960 960\">\n",
              "    <path d=\"M120-120v-720h720v720H120Zm60-500h600v-160H180v160Zm220 220h160v-160H400v160Zm0 220h160v-160H400v160ZM180-400h160v-160H180v160Zm440 0h160v-160H620v160ZM180-180h160v-160H180v160Zm440 0h160v-160H620v160Z\"/>\n",
              "  </svg>\n",
              "    </button>\n",
              "\n",
              "  <style>\n",
              "    .colab-df-container {\n",
              "      display:flex;\n",
              "      gap: 12px;\n",
              "    }\n",
              "\n",
              "    .colab-df-convert {\n",
              "      background-color: #E8F0FE;\n",
              "      border: none;\n",
              "      border-radius: 50%;\n",
              "      cursor: pointer;\n",
              "      display: none;\n",
              "      fill: #1967D2;\n",
              "      height: 32px;\n",
              "      padding: 0 0 0 0;\n",
              "      width: 32px;\n",
              "    }\n",
              "\n",
              "    .colab-df-convert:hover {\n",
              "      background-color: #E2EBFA;\n",
              "      box-shadow: 0px 1px 2px rgba(60, 64, 67, 0.3), 0px 1px 3px 1px rgba(60, 64, 67, 0.15);\n",
              "      fill: #174EA6;\n",
              "    }\n",
              "\n",
              "    .colab-df-buttons div {\n",
              "      margin-bottom: 4px;\n",
              "    }\n",
              "\n",
              "    [theme=dark] .colab-df-convert {\n",
              "      background-color: #3B4455;\n",
              "      fill: #D2E3FC;\n",
              "    }\n",
              "\n",
              "    [theme=dark] .colab-df-convert:hover {\n",
              "      background-color: #434B5C;\n",
              "      box-shadow: 0px 1px 3px 1px rgba(0, 0, 0, 0.15);\n",
              "      filter: drop-shadow(0px 1px 2px rgba(0, 0, 0, 0.3));\n",
              "      fill: #FFFFFF;\n",
              "    }\n",
              "  </style>\n",
              "\n",
              "    <script>\n",
              "      const buttonEl =\n",
              "        document.querySelector('#df-5a09036b-4e81-4d4e-8a3b-33ca2f0fa6f0 button.colab-df-convert');\n",
              "      buttonEl.style.display =\n",
              "        google.colab.kernel.accessAllowed ? 'block' : 'none';\n",
              "\n",
              "      async function convertToInteractive(key) {\n",
              "        const element = document.querySelector('#df-5a09036b-4e81-4d4e-8a3b-33ca2f0fa6f0');\n",
              "        const dataTable =\n",
              "          await google.colab.kernel.invokeFunction('convertToInteractive',\n",
              "                                                    [key], {});\n",
              "        if (!dataTable) return;\n",
              "\n",
              "        const docLinkHtml = 'Like what you see? Visit the ' +\n",
              "          '<a target=\"_blank\" href=https://colab.research.google.com/notebooks/data_table.ipynb>data table notebook</a>'\n",
              "          + ' to learn more about interactive tables.';\n",
              "        element.innerHTML = '';\n",
              "        dataTable['output_type'] = 'display_data';\n",
              "        await google.colab.output.renderOutput(dataTable, element);\n",
              "        const docLink = document.createElement('div');\n",
              "        docLink.innerHTML = docLinkHtml;\n",
              "        element.appendChild(docLink);\n",
              "      }\n",
              "    </script>\n",
              "  </div>\n",
              "\n",
              "    </div>\n",
              "  </div>\n"
            ]
          },
          "metadata": {},
          "execution_count": 6
        }
      ]
    },
    {
      "cell_type": "code",
      "source": [
        "from sklearn.model_selection import train_test_split, GridSearchCV\n",
        "from sklearn.pipeline import Pipeline\n",
        "from sklearn.preprocessing import StandardScaler  # as distance based algorithem is there\n",
        "from sklearn.linear_model import LogisticRegression\n",
        "from sklearn.tree import DecisionTreeClassifier\n",
        "from sklearn.ensemble import RandomForestClassifier\n",
        "from sklearn.metrics import accuracy_score, precision_score, recall_score, f1_score\n",
        "from sklearn.neural_network import MLPClassifier"
      ],
      "metadata": {
        "id": "Hz-qBJvsI8vs"
      },
      "execution_count": 2,
      "outputs": []
    },
    {
      "cell_type": "code",
      "source": [
        "import warnings\n",
        "warnings.filterwarnings('ignore')"
      ],
      "metadata": {
        "id": "sryLuzv3I-gC"
      },
      "execution_count": 3,
      "outputs": []
    },
    {
      "cell_type": "code",
      "source": [
        "data = df\n",
        "x=df.drop('success_indicator',axis=1)\n",
        "y=df['success_indicator']\n",
        "\n",
        "\n",
        "x_train, x_test, y_train, y_test = train_test_split(x, y, test_size=0.2, random_state=77)\n",
        "\n",
        "pipeline = Pipeline([('scaler', StandardScaler()),('classifier', None) ])\n",
        "\n",
        "# Adding models to the param_grids list so to compare their accuracy with same data but different hyperparamere\n",
        "param_grids = [\n",
        "    {'classifier': [LogisticRegression()],\n",
        "     'classifier__C': [0.1, 1, 10]},\n",
        "    {'classifier': [MLPClassifier()],\n",
        "     'classifier__hidden_layer_sizes': [(100,), (50, 50), (25, 25, 25)],\n",
        "     'classifier__activation': ['relu', 'tanh'],  # these will be our activation function\n",
        "     'classifier__solver': ['adam']}              # adam will be optimiazer for ANN\n",
        "]\n",
        "\n",
        "best_model = None\n",
        "best_score = 0\n",
        "\n",
        "for entity in param_grids:\n",
        "    gs = GridSearchCV(pipeline, entity, cv=5, scoring='accuracy')  # cross validation in 5 , while measure of comparison\n",
        "    gs.fit(x_train, y_train)                                       # is acccuracy , we may use random search cv also if\n",
        "                                                                    # data is more\n",
        "\n",
        "    y_pred = gs.predict(x_test)\n",
        "    accuracy = accuracy_score(y_test, y_pred)\n",
        "    precision = precision_score(y_test, y_pred)\n",
        "    recall = recall_score(y_test, y_pred)\n",
        "    f1 = f1_score(y_test, y_pred)\n",
        "\n",
        "    print(\"Best Parameters:\", gs.best_params_)\n",
        "    print(\"Best Score:\", gs.best_score_)\n",
        "    print(\"Accuracy:\", accuracy)\n",
        "    print(\"Precision:\", precision)\n",
        "    print(\"Recall:\", recall)\n",
        "    print(\"F1 Score:\", f1)\n",
        "    print(\"***************************************************\")\n",
        "\n",
        "    if gs.best_score_ > best_score:\n",
        "        best_model = gs.best_estimator_\n",
        "        best_score = gs.best_score_\n",
        "\n",
        "print(\"Best Model:\", best_model)\n",
        "print(\"Best Score:\", best_score)"
      ],
      "metadata": {
        "colab": {
          "base_uri": "https://localhost:8080/"
        },
        "id": "Vohgn9NGJAKP",
        "outputId": "347412c5-2144-4273-acfe-bb32426886a0"
      },
      "execution_count": 7,
      "outputs": [
        {
          "output_type": "stream",
          "name": "stdout",
          "text": [
            "Best Parameters: {'classifier': LogisticRegression(C=0.1), 'classifier__C': 0.1}\n",
            "Best Score: 0.7579559467526525\n",
            "Accuracy: 0.7512054001928641\n",
            "Precision: 0.7098919368246052\n",
            "Recall: 0.8364348677766895\n",
            "F1 Score: 0.7679856115107914\n",
            "***************************************************\n",
            "Best Parameters: {'classifier': MLPClassifier(hidden_layer_sizes=(50, 50)), 'classifier__activation': 'relu', 'classifier__hidden_layer_sizes': (50, 50), 'classifier__solver': 'adam'}\n",
            "Best Score: 0.8126808136705955\n",
            "Accuracy: 0.819672131147541\n",
            "Precision: 0.7855251544571933\n",
            "Recall: 0.871694417238002\n",
            "F1 Score: 0.8263695450324977\n",
            "***************************************************\n",
            "Best Model: Pipeline(steps=[('scaler', StandardScaler()),\n",
            "                ('classifier', MLPClassifier(hidden_layer_sizes=(50, 50)))])\n",
            "Best Score: 0.8126808136705955\n"
          ]
        }
      ]
    },
    {
      "cell_type": "markdown",
      "source": [
        "ANN classifier will be the model which we will be choosing\n",
        "\n",
        "\n",
        "Reasons:\n",
        "\n",
        "Non-Linearity: ANNs excel in capturing intricate, non-linear relationships in data.\n",
        "\n",
        "Representation Learning: ANNs automatically learn hierarchical representations, beneficial for complex patterns.\n",
        "\n",
        "Adaptability to Data: Versatile ANNs handle various data types like images, text, and tabular data.\n",
        "\n",
        "Feature Engineering: ANNs reduce manual feature engineering needs by autonomously extracting relevant features.\n",
        "\n",
        "Scale and Size: ANNs scale well with large datasets, ideal for big data tasks.\n",
        "\n",
        "Generalization: ANNs generalize effectively to new data, crucial for real-world applications.\n",
        "\n",
        "End-to-End Learning: ANNs enable learning directly from raw input to output, simplifying the modeling process.\n",
        "\n",
        "Transfer Learning: Pre-trained ANNs can be fine-tuned, especially useful with limited labeled data.\n",
        "\n",
        "Optimization Techniques: Advanced optimization methods enhance training efficiency for deep neural networks.\n",
        "\n",
        "Research and Innovation: Dynamic field with ongoing advancements, allowing for the use of state-of-the-art techniques and architectures."
      ],
      "metadata": {
        "id": "6IocLU7xMwAe"
      }
    },
    {
      "cell_type": "code",
      "source": [],
      "metadata": {
        "id": "oQMppAxQNiTN"
      },
      "execution_count": null,
      "outputs": []
    }
  ]
}